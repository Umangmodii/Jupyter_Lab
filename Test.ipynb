{
 "cells": [
  {
   "cell_type": "code",
   "execution_count": 5,
   "id": "f4507209-bfec-4ba8-b4c6-9d1207d38e6c",
   "metadata": {},
   "outputs": [
    {
     "name": "stdout",
     "output_type": "stream",
     "text": [
      "Welcome to Jupyter Lab!\n"
     ]
    }
   ],
   "source": [
    "print(\"Welcome to Jupyter Lab!\")"
   ]
  },
  {
   "cell_type": "code",
   "execution_count": 1,
   "id": "a2a8770d-1c1d-4ab3-9eb3-cf02309c213c",
   "metadata": {},
   "outputs": [],
   "source": [
    "a = 34"
   ]
  },
  {
   "cell_type": "code",
   "execution_count": 2,
   "id": "d627cbdb-91b3-4286-8dfa-be25dd131c98",
   "metadata": {},
   "outputs": [
    {
     "data": {
      "text/plain": [
       "34"
      ]
     },
     "execution_count": 2,
     "metadata": {},
     "output_type": "execute_result"
    }
   ],
   "source": [
    "a"
   ]
  },
  {
   "cell_type": "code",
   "execution_count": null,
   "id": "e7af35bd-3fcd-49d5-b36b-dbd86a4bbf11",
   "metadata": {},
   "outputs": [],
   "source": []
  }
 ],
 "metadata": {
  "kernelspec": {
   "display_name": "Python 3 (ipykernel)",
   "language": "python",
   "name": "python3"
  },
  "language_info": {
   "codemirror_mode": {
    "name": "ipython",
    "version": 3
   },
   "file_extension": ".py",
   "mimetype": "text/x-python",
   "name": "python",
   "nbconvert_exporter": "python",
   "pygments_lexer": "ipython3",
   "version": "3.12.1"
  }
 },
 "nbformat": 4,
 "nbformat_minor": 5
}

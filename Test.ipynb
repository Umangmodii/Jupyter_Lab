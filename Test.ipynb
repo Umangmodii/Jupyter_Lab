{
 "cells": [
  {
   "cell_type": "markdown",
   "id": "5eb7f665-0bcc-47ee-a6be-9d9a02938117",
   "metadata": {},
   "source": [
    "***Welcome To My World!***"
   ]
  },
  {
   "cell_type": "code",
   "execution_count": 5,
   "id": "f4507209-bfec-4ba8-b4c6-9d1207d38e6c",
   "metadata": {},
   "outputs": [
    {
     "name": "stdout",
     "output_type": "stream",
     "text": [
      "Welcome to Jupyter Lab!\n"
     ]
    }
   ],
   "source": [
    "print(\"Welcome to Jupyter Lab!\")"
   ]
  },
  {
   "cell_type": "code",
   "execution_count": 1,
   "id": "a2a8770d-1c1d-4ab3-9eb3-cf02309c213c",
   "metadata": {},
   "outputs": [],
   "source": [
    "a = 34"
   ]
  },
  {
   "cell_type": "code",
   "execution_count": 2,
   "id": "d627cbdb-91b3-4286-8dfa-be25dd131c98",
   "metadata": {},
   "outputs": [
    {
     "data": {
      "text/plain": [
       "34"
      ]
     },
     "execution_count": 2,
     "metadata": {},
     "output_type": "execute_result"
    }
   ],
   "source": [
    "a"
   ]
  },
  {
   "cell_type": "code",
   "execution_count": null,
   "id": "d95dc6e1-05b3-4e49-b8f4-073aa9dcf5de",
   "metadata": {},
   "outputs": [],
   "source": []
  }
 ],
 "metadata": {
  "kernelspec": {
   "display_name": "Python 3 (ipykernel)",
   "language": "python",
   "name": "python3"
  },
  "language_info": {
   "codemirror_mode": {
    "name": "ipython",
    "version": 3
   },
   "file_extension": ".py",
   "mimetype": "text/x-python",
   "name": "python",
   "nbconvert_exporter": "python",
   "pygments_lexer": "ipython3",
   "version": "3.12.1"
  }
 },
 "nbformat": 4,
 "nbformat_minor": 5
}
